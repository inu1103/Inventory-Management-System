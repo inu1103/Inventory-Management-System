{
 "cells": [
  {
   "cell_type": "code",
   "execution_count": 82,
   "metadata": {},
   "outputs": [],
   "source": [
    "fd = open(\"Records.txt\",\"r\")\n",
    "txt = fd.read()\n",
    "fd.close()"
   ]
  },
  {
   "cell_type": "code",
   "execution_count": 83,
   "metadata": {
    "scrolled": true
   },
   "outputs": [
    {
     "name": "stdout",
     "output_type": "stream",
     "text": [
      "Enter the product_Id: 1002\n",
      "Enter the quantity: 3\n",
      "***********************\n",
      "('Product ID: ', '1002')\n",
      "('Name: ', 'Cake')\n",
      "('Price: ', '300')\n",
      "('Quant: ', 3)\n",
      "------------------------\n",
      "('Billing Amout: ', 900)\n",
      "***********************\n"
     ]
    }
   ],
   "source": [
    "products = txt.split(\"\\n\")\n",
    "\n",
    "ui_prod  = str(input(\"Enter the product_Id: \"))\n",
    "ui_quant = input(\"Enter the quantity: \")\n",
    "\n",
    "for product in products:\n",
    "    prod = product.split(\",\")\n",
    "    \n",
    "    \n",
    "    if(prod[0] == ui_prod):\n",
    "        print(\"***********************\")\n",
    "        print(\"Product ID: \", prod[0])\n",
    "        print(\"Name: \", prod[1])\n",
    "        print(\"Price: \",prod[2])\n",
    "        print(\"Quant: \",ui_quant)\n",
    "        print(\"------------------------\")\n",
    "        print(\"Billing Amout: \", ui_quant * int(prod[2]))\n",
    "        print(\"***********************\")\n",
    "    "
   ]
  },
  {
   "cell_type": "code",
   "execution_count": 85,
   "metadata": {},
   "outputs": [],
   "source": [
    "new_record = []\n",
    "\n",
    "for product in products:\n",
    "    prod = product.split(\",\")\n",
    "    if(ui_prod == prod[0]):\n",
    "        prod[3] = str(int(prod[3]) - ui_quant)\n",
    "        \n",
    "    new_record.append(prod[0] + \",\" + prod[1] + \",\" + prod[2] + \",\" + prod[3] + \"\\n\")\n",
    "    \n",
    "new_record[-1] = new_record[-1][:-1]"
   ]
  },
  {
   "cell_type": "code",
   "execution_count": 87,
   "metadata": {},
   "outputs": [],
   "source": [
    "fd = open(\"Records.txt\", 'w')\n",
    "\n",
    "for i in new_record:\n",
    "    fd.write(i)\n",
    "    \n",
    "fd.close()"
   ]
  },
  {
   "cell_type": "code",
   "execution_count": null,
   "metadata": {},
   "outputs": [],
   "source": []
  }
 ],
 "metadata": {
  "kernelspec": {
   "display_name": "Python 2",
   "language": "python",
   "name": "python2"
  },
  "language_info": {
   "codemirror_mode": {
    "name": "ipython",
    "version": 2
   },
   "file_extension": ".py",
   "mimetype": "text/x-python",
   "name": "python",
   "nbconvert_exporter": "python",
   "pygments_lexer": "ipython2",
   "version": "2.7.16"
  }
 },
 "nbformat": 4,
 "nbformat_minor": 2
}
